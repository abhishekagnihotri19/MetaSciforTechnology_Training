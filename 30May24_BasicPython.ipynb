{
  "nbformat": 4,
  "nbformat_minor": 0,
  "metadata": {
    "colab": {
      "provenance": [],
      "authorship_tag": "ABX9TyNhEOm+D+7YS6H7W4cYWhw2",
      "include_colab_link": true
    },
    "kernelspec": {
      "name": "python3",
      "display_name": "Python 3"
    },
    "language_info": {
      "name": "python"
    }
  },
  "cells": [
    {
      "cell_type": "markdown",
      "metadata": {
        "id": "view-in-github",
        "colab_type": "text"
      },
      "source": [
        "<a href=\"https://colab.research.google.com/github/abhishekagnihotri19/MetaSciforTechnology_Training/blob/main/30May24_BasicPython.ipynb\" target=\"_parent\"><img src=\"https://colab.research.google.com/assets/colab-badge.svg\" alt=\"Open In Colab\"/></a>"
      ]
    },
    {
      "cell_type": "markdown",
      "source": [
        "Class Work 30 May 2024"
      ],
      "metadata": {
        "id": "Zs47PbtUQ1cp"
      }
    },
    {
      "cell_type": "code",
      "execution_count": null,
      "metadata": {
        "colab": {
          "base_uri": "https://localhost:8080/"
        },
        "id": "dW8ea4RD1DzQ",
        "outputId": "5f05f11c-c55e-443d-977d-d283bfff4bbd"
      },
      "outputs": [
        {
          "output_type": "stream",
          "name": "stdout",
          "text": [
            "hello_world\n"
          ]
        }
      ],
      "source": [
        "message=\"hello_world\"\n",
        "print(message)"
      ]
    },
    {
      "cell_type": "code",
      "source": [
        "Age=30\n",
        "if Age>30:\n",
        "  print (\"Hi! this is abhishek\")\n",
        "else:\n",
        "  print(\"Iam Misri\")"
      ],
      "metadata": {
        "colab": {
          "base_uri": "https://localhost:8080/"
        },
        "id": "Ge5FeAxb6INn",
        "outputId": "478126cf-c4f2-4377-ce35-4544cdf0007b"
      },
      "execution_count": null,
      "outputs": [
        {
          "output_type": "stream",
          "name": "stdout",
          "text": [
            "Iam Misri\n"
          ]
        }
      ]
    },
    {
      "cell_type": "code",
      "source": [
        "dobs=\"december\"\n",
        "if dobs ==\"sept\":\n",
        "  print(\"Its Ivan Month\")\n",
        "else:\n",
        "  print('No its Not Ivan Month')\n"
      ],
      "metadata": {
        "colab": {
          "base_uri": "https://localhost:8080/"
        },
        "id": "DAjkFR617GCj",
        "outputId": "ae0cf871-d36a-4a84-9710-afdf0370a828"
      },
      "execution_count": null,
      "outputs": [
        {
          "output_type": "stream",
          "name": "stdout",
          "text": [
            "No its Not Ivan Month\n"
          ]
        }
      ]
    },
    {
      "cell_type": "code",
      "source": [
        "#Defininng function\n",
        "def add(a,b):\n",
        "  return a+b\n",
        "add(4,5)"
      ],
      "metadata": {
        "colab": {
          "base_uri": "https://localhost:8080/"
        },
        "id": "lMcJ1ABQ7D4F",
        "outputId": "add6c07f-49bf-4dfa-8fb4-bce79d7c0f11"
      },
      "execution_count": null,
      "outputs": [
        {
          "output_type": "execute_result",
          "data": {
            "text/plain": [
              "9"
            ]
          },
          "metadata": {},
          "execution_count": 8
        }
      ]
    },
    {
      "cell_type": "code",
      "source": [
        "#Switch case Statement\n",
        "def number(argument):\n",
        "  match argument:\n",
        "    case 0:\n",
        "      return \"zero\"\n",
        "    case 1:\n",
        "      return \"one\"\n",
        "    case 2:\n",
        "      return \"two\"\n",
        "    case default:\n",
        "      return \"default statement\"\n",
        "head = number(5)\n",
        "print (head)\n"
      ],
      "metadata": {
        "colab": {
          "base_uri": "https://localhost:8080/"
        },
        "id": "o-cMC2ptAqjx",
        "outputId": "68d809b1-22be-4d5e-9d0a-ad0f3c35f36d"
      },
      "execution_count": null,
      "outputs": [
        {
          "output_type": "stream",
          "name": "stdout",
          "text": [
            "default statement\n"
          ]
        }
      ]
    },
    {
      "cell_type": "markdown",
      "source": [
        "\n",
        "**HOME WORK DATED  30-05-2024**"
      ],
      "metadata": {
        "id": "g_h5EgB3Iaiq"
      }
    },
    {
      "cell_type": "markdown",
      "source": [
        "EXAMPLE OF FUNCTIONS\n"
      ],
      "metadata": {
        "id": "WfoARCA8IkwX"
      }
    },
    {
      "cell_type": "markdown",
      "source": [
        "Example 1 Defining of Full Name"
      ],
      "metadata": {
        "id": "UHsOtM7lMy-x"
      }
    },
    {
      "cell_type": "code",
      "source": [
        "def fullName (last_name):\n",
        "  print(\"My full Name is: Abhishek +\",  last_name)\n",
        "\n",
        "fullName(\"agnihotri\")\n"
      ],
      "metadata": {
        "colab": {
          "base_uri": "https://localhost:8080/"
        },
        "id": "HcMih5AfJjYp",
        "outputId": "3b0e2d28-eaff-4412-8bad-b694e321d46f"
      },
      "execution_count": 6,
      "outputs": [
        {
          "output_type": "stream",
          "name": "stdout",
          "text": [
            "My full Name is: Abhishek + agnihotri\n"
          ]
        }
      ]
    },
    {
      "cell_type": "markdown",
      "source": [
        "Example 2 Finding of Square"
      ],
      "metadata": {
        "id": "7kKCMRM4M1ir"
      }
    },
    {
      "cell_type": "code",
      "source": [
        "def finding_square(num):\n",
        "  square_value= num*num\n",
        "  return square_value\n",
        "square_value=  finding_square (9)\n",
        "print(\"Square Value of Given Number is \", square_value)\n"
      ],
      "metadata": {
        "colab": {
          "base_uri": "https://localhost:8080/"
        },
        "id": "LT-t3syLNIKH",
        "outputId": "047940f0-46ae-4102-fe35-5cc3b1ceba71"
      },
      "execution_count": 8,
      "outputs": [
        {
          "output_type": "stream",
          "name": "stdout",
          "text": [
            "Square Value of Given Number is  81\n"
          ]
        }
      ]
    },
    {
      "cell_type": "markdown",
      "source": [
        "Example 3 The Pass Statement"
      ],
      "metadata": {
        "id": "OfvG_lTpNe0W"
      }
    },
    {
      "cell_type": "code",
      "source": [
        "def future_function():\n",
        "    pass\n",
        "\n",
        "# this will execute without any action or error\n",
        "future_function()"
      ],
      "metadata": {
        "id": "5L6dr8DEOR3b"
      },
      "execution_count": 10,
      "outputs": []
    },
    {
      "cell_type": "code",
      "source": [
        "import math"
      ],
      "metadata": {
        "id": "PlOi79_mOaBY"
      },
      "execution_count": 11,
      "outputs": []
    },
    {
      "cell_type": "markdown",
      "source": [
        "Example 4 Python Squareroot *function*"
      ],
      "metadata": {
        "id": "EkD1Xzz8Ok6R"
      }
    },
    {
      "cell_type": "code",
      "source": [
        "def square_root(number):\n",
        "  return math.sqrt(number)\n",
        "  result=math.sqrt(number)\n",
        "  print(\"The Square root of given number is \", result)\n",
        "square_root(625)\n",
        "\n"
      ],
      "metadata": {
        "colab": {
          "base_uri": "https://localhost:8080/"
        },
        "id": "WBzr3VbtOp-Q",
        "outputId": "0620b574-8402-42af-cd04-4954d4cfaa3c"
      },
      "execution_count": 13,
      "outputs": [
        {
          "output_type": "execute_result",
          "data": {
            "text/plain": [
              "25.0"
            ]
          },
          "metadata": {},
          "execution_count": 13
        }
      ]
    },
    {
      "cell_type": "markdown",
      "source": [
        "Example 5: Power"
      ],
      "metadata": {
        "id": "rDNyaYFYPllV"
      }
    },
    {
      "cell_type": "code",
      "source": [
        "def toThePowerOf(firstNum, powNumber):\n",
        "  return pow(firstNum, powNumber)\n",
        "  result_1=pow(firstNum, powNumber)\n",
        "  print(\"The rsultant Value after powering off given numbe is :\", result_1)\n",
        "\n",
        "toThePowerOf(20,30)"
      ],
      "metadata": {
        "colab": {
          "base_uri": "https://localhost:8080/"
        },
        "id": "U7gevvB_QKmF",
        "outputId": "51a049ab-62fd-419e-ea64-28770528c44f"
      },
      "execution_count": 14,
      "outputs": [
        {
          "output_type": "execute_result",
          "data": {
            "text/plain": [
              "1073741824000000000000000000000000000000"
            ]
          },
          "metadata": {},
          "execution_count": 14
        }
      ]
    },
    {
      "cell_type": "markdown",
      "source": [
        "Example 6: Arbitrary Arguments, *args\n"
      ],
      "metadata": {
        "id": "i7QbMjN7SAZW"
      }
    },
    {
      "cell_type": "markdown",
      "source": [
        "If the number of arguments is unknown, add a * before the parameter name:\n",
        "\n"
      ],
      "metadata": {
        "id": "SSCGZeQ9SG5x"
      }
    },
    {
      "cell_type": "code",
      "source": [
        "def elder_kids(*kidsName):\n",
        "  return kidsName[3]\n",
        "  results=kidsName[3]\n",
        "  print(\"Name of Elder kid is:\", results)\n",
        "\n",
        "elder_kids(\"ivan\", \"karuna\",\"katha\",\"isha\")"
      ],
      "metadata": {
        "colab": {
          "base_uri": "https://localhost:8080/",
          "height": 35
        },
        "id": "DB6N6Cr8SWGU",
        "outputId": "a8980b5c-e340-4c14-fa13-32ad65451acb"
      },
      "execution_count": 15,
      "outputs": [
        {
          "output_type": "execute_result",
          "data": {
            "text/plain": [
              "'isha'"
            ],
            "application/vnd.google.colaboratory.intrinsic+json": {
              "type": "string"
            }
          },
          "metadata": {},
          "execution_count": 15
        }
      ]
    },
    {
      "cell_type": "markdown",
      "source": [
        "**EXAMPLE OF CONDITIONAL STATEMENTS**"
      ],
      "metadata": {
        "id": "UUvSHclZRH2h"
      }
    },
    {
      "cell_type": "markdown",
      "source": [
        "# EXAMPLE 1 : IF Condition"
      ],
      "metadata": {
        "id": "GdW2PlRaRUpi"
      }
    },
    {
      "cell_type": "code",
      "source": [
        "def furture_abhishek (pathway):\n",
        "  if pathway==\"Machine_Learning\":\n",
        "    print (\"Qualified DataScientist\")\n",
        "  else:\n",
        "    print (\"You have to work Hard\")\n",
        "\n",
        "furture_abhishek(\"Machine_Learning\")"
      ],
      "metadata": {
        "colab": {
          "base_uri": "https://localhost:8080/"
        },
        "id": "ap9Sc9RmRSua",
        "outputId": "e5f6bc79-2023-4702-b11b-08d14065e2d2"
      },
      "execution_count": 16,
      "outputs": [
        {
          "output_type": "stream",
          "name": "stdout",
          "text": [
            "Qualified DataScientist\n"
          ]
        }
      ]
    },
    {
      "cell_type": "markdown",
      "source": [
        "Example 2: if Else if"
      ],
      "metadata": {
        "id": "5a1Y8eMlWfIO"
      }
    },
    {
      "cell_type": "code",
      "source": [
        "def year_2024_prediction (score):\n",
        "  if score==90:\n",
        "    print(\"I will be Selected in Meta Scifor Technologies for Job\")\n",
        "  elif score==75:\n",
        "    print(\"I will be selected for Internship Only\")\n",
        "  else:\n",
        "    print(\"I can complete my Training Part Only and Better Luck Next Time\")\n",
        "year_2024_prediction(90)"
      ],
      "metadata": {
        "colab": {
          "base_uri": "https://localhost:8080/"
        },
        "id": "e7liZwcCYSda",
        "outputId": "3e2c1120-4bf8-45d0-d036-5633d3808043"
      },
      "execution_count": 17,
      "outputs": [
        {
          "output_type": "stream",
          "name": "stdout",
          "text": [
            "I will be Selected in Meta Scifor Technologies for Job\n"
          ]
        }
      ]
    },
    {
      "cell_type": "markdown",
      "source": [
        "Example 3"
      ],
      "metadata": {
        "id": "-b4R6TCIZqQF"
      }
    },
    {
      "cell_type": "code",
      "source": [
        "def qualification_dataScientist (skill):\n",
        "  if skill > 70:\n",
        "\n",
        "        if skill > 90:\n",
        "          print (\"You can be DataScientist\")\n",
        "\n",
        "        elif skill >75:\n",
        "          print (\"You need to attend classes of Urooj Madam for upskilling Yourself\")\n",
        "  else:\n",
        "    print(\"You have to work Hard on Your Basics\")\n",
        "\n",
        "qualification_dataScientist(76)\n",
        "\n",
        ""
      ],
      "metadata": {
        "colab": {
          "base_uri": "https://localhost:8080/"
        },
        "id": "uzGhn7-hZteW",
        "outputId": "fa99d7c5-1ef1-4f4f-aefd-866bc8238d9e"
      },
      "execution_count": 24,
      "outputs": [
        {
          "output_type": "stream",
          "name": "stdout",
          "text": [
            "You need to attend classes of Urooj Madam for upskilling Yourself\n"
          ]
        }
      ]
    }
  ]
}